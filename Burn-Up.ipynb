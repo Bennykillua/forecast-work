{
 "cells": [
  {
   "cell_type": "code",
   "execution_count": null,
   "metadata": {},
   "outputs": [],
   "source": [
    "### SETTINGS ####\n",
    "DATA_FILE_PATH = 'Burn-Up.csv'"
   ]
  },
  {
   "cell_type": "code",
   "execution_count": null,
   "metadata": {
    "ExecuteTime": {
     "end_time": "2019-03-19T11:58:58.571844Z",
     "start_time": "2019-03-19T11:58:58.553196Z"
    },
    "slideshow": {
     "slide_type": "skip"
    }
   },
   "outputs": [],
   "source": [
    "import pandas as pd\n",
    "from matplotlib import pyplot as plt\n",
    "import matplotlib.ticker as ticker\n",
    "import seaborn as sns\n",
    "from pandas.plotting import register_matplotlib_converters\n",
    "import datetime\n",
    "register_matplotlib_converters()\n",
    "%matplotlib inline\n",
    "plt.style.use('fivethirtyeight')\n",
    "plt.rcParams['axes.labelsize'] = 14\n",
    "plt.rcParams['lines.linewidth'] = 1.5\n",
    "darkgrey = '#3A3A3A'\n",
    "lightgrey = '#414141'\n",
    "barblue = plt.rcParams['axes.prop_cycle'].by_key()['color'][0]\n",
    "plt.rcParams['text.color'] = darkgrey\n",
    "plt.rcParams['axes.labelcolor'] = darkgrey\n",
    "plt.rcParams['xtick.color'] = lightgrey\n",
    "plt.rcParams['ytick.color'] = lightgrey"
   ]
  },
  {
   "cell_type": "markdown",
   "metadata": {
    "slideshow": {
     "slide_type": "slide"
    }
   },
   "source": [
    "# Comparing Burn Ups: Story Points vs Story Count\n",
    "\n",
    "## Context\n",
    "\n",
    "The team wants to determine if assiging story points (estimate) for work items helps drive conversations and decisions for prioritization."
   ]
  },
  {
   "cell_type": "markdown",
   "metadata": {
    "slideshow": {
     "slide_type": "slide"
    }
   },
   "source": [
    "## Idea\n",
    "\n",
    "The idea is to compare the burn-up of stories by estimate (story points) to story count. Does the burn up of story estimate provide different/unique insights than simply story count?"
   ]
  },
  {
   "cell_type": "code",
   "execution_count": null,
   "metadata": {
    "ExecuteTime": {
     "end_time": "2019-03-19T11:59:00.961477Z",
     "start_time": "2019-03-19T11:59:00.877094Z"
    },
    "slideshow": {
     "slide_type": "subslide"
    }
   },
   "outputs": [],
   "source": [
    "def datesWithoutTime(item):\n",
    "    item['Closed Date'] = datetime.datetime.strptime(item['Closed Date'].strftime('%Y-%m-%d'), '%Y-%m-%d').date()\n",
    "    return item\n",
    "\n",
    "kanban_data = pd.read_csv(\n",
    "    DATA_FILE_PATH, usecols=['Closed Date', 'Work Item Type', 'Story Points'], parse_dates=['Closed Date']\n",
    ").dropna().transform(datesWithoutTime, 'columns')\n",
    "kanban_data.head(1)"
   ]
  },
  {
   "cell_type": "markdown",
   "metadata": {
    "slideshow": {
     "slide_type": "slide"
    }
   },
   "source": [
    "## Analysis\n",
    "\n",
    "Calculate the cumulative sum of story points and story count by date of completion. This is done for only stories with an estimate."
   ]
  },
  {
   "cell_type": "code",
   "execution_count": null,
   "metadata": {
    "ExecuteTime": {
     "end_time": "2019-03-19T11:59:07.311950Z",
     "start_time": "2019-03-19T11:59:06.631758Z"
    },
    "slideshow": {
     "slide_type": "slide"
    }
   },
   "outputs": [],
   "source": [
    "kanban_data = kanban_data.where(lambda x: x['Story Points'] > 0)\n",
    "date_range = pd.date_range(\n",
    "    start=kanban_data['Closed Date'].min(), end=kanban_data['Closed Date'].max())\n",
    "pts_throughput = pd.crosstab(\n",
    "    kanban_data['Closed Date'], kanban_data['Work Item Type'], values=kanban_data['Story Points'], aggfunc=\"sum\", colnames=[None]).reset_index()\n",
    "pts_throughput[\"Throughput\"] = pts_throughput['User Story'].cumsum()\n",
    "count_throughput = pd.crosstab(\n",
    "    kanban_data['Closed Date'], kanban_data['Work Item Type'], colnames=[None]).reset_index()\n",
    "count_throughput['Throughput'] = count_throughput['User Story'].cumsum()\n",
    "ptsPlot = pts_throughput.plot(\n",
    "    x='Closed Date', y='Throughput', linewidth=2.5, figsize=(14, 3), legend=None)\n",
    "ptsPlot.set_title(\"Burn Up by Story Points\", loc='left', fontdict={\n",
    "             'fontsize': 18, 'fontweight': 'semibold'})\n",
    "ptsPlot.set_xlabel('Time')\n",
    "ptsPlot.set_ylabel('Story Points Completed')\n",
    "ptsPlot.axhline(y=0, color=lightgrey, alpha=.5);\n",
    "countPlot = count_throughput.plot(\n",
    "    x='Closed Date', y='Throughput', linewidth=2.5, figsize=(14, 3), legend=None)\n",
    "countPlot.set_title(\"Burn up by Story Count\", loc='left', fontdict={\n",
    "             'fontsize': 18, 'fontweight': 'semibold'})\n",
    "countPlot.set_xlabel('Time')\n",
    "countPlot.set_ylabel('Stories Completed')\n",
    "countPlot.axhline(y=0, color=lightgrey, alpha=.5)"
   ]
  },
  {
   "cell_type": "markdown",
   "metadata": {
    "slideshow": {
     "slide_type": "slide"
    }
   },
   "source": [
    "## Conclusion\n",
    "\n",
    "The two burn-up charts look almost identical; bewteen the relationship of time and completed stories. For this reason, there is little evidence to suggest that there are additional insights that story points provide over story count."
   ]
  }
 ],
 "metadata": {
  "celltoolbar": "Slideshow",
  "kernelspec": {
   "display_name": "Python 3",
   "language": "python",
   "name": "python3"
  },
  "language_info": {
   "codemirror_mode": {
    "name": "ipython",
    "version": 3
   },
   "file_extension": ".py",
   "mimetype": "text/x-python",
   "name": "python",
   "nbconvert_exporter": "python",
   "pygments_lexer": "ipython3",
   "version": "3.8.12"
  },
  "varInspector": {
   "cols": {
    "lenName": 16,
    "lenType": 16,
    "lenVar": 40
   },
   "kernels_config": {
    "python": {
     "delete_cmd_postfix": "",
     "delete_cmd_prefix": "del ",
     "library": "var_list.py",
     "varRefreshCmd": "print(var_dic_list())"
    },
    "r": {
     "delete_cmd_postfix": ") ",
     "delete_cmd_prefix": "rm(",
     "library": "var_list.r",
     "varRefreshCmd": "cat(var_dic_list()) "
    }
   },
   "types_to_exclude": [
    "module",
    "function",
    "builtin_function_or_method",
    "instance",
    "_Feature"
   ],
   "window_display": false
  }
 },
 "nbformat": 4,
 "nbformat_minor": 2
}
