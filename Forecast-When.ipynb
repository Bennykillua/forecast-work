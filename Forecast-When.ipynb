{
 "cells": [
  {
   "cell_type": "code",
   "execution_count": null,
   "metadata": {},
   "outputs": [],
   "source": [
    "### SETTINGS ####\n",
    "DATA_FILE_PATH = 'Historical Data for Forecasting.csv'\n",
    "LAST_DAYS = 180\n",
    "SIMULATION_ITEMS = 15\n",
    "DATE_TO_BEGIN_WORKING_ON_ITEMS = '2021-01-01'"
   ]
  },
  {
   "cell_type": "code",
   "execution_count": null,
   "metadata": {
    "ExecuteTime": {
     "end_time": "2019-03-19T11:58:58.571844Z",
     "start_time": "2019-03-19T11:58:58.553196Z"
    },
    "slideshow": {
     "slide_type": "skip"
    }
   },
   "outputs": [],
   "source": [
    "import pandas as pd\n",
    "from matplotlib import pyplot as plt\n",
    "import matplotlib.ticker as ticker\n",
    "import seaborn as sns\n",
    "from pandas.plotting import register_matplotlib_converters\n",
    "import datetime\n",
    "register_matplotlib_converters()\n",
    "%matplotlib inline\n",
    "plt.style.use('fivethirtyeight')\n",
    "plt.rcParams['axes.labelsize'] = 14\n",
    "plt.rcParams['lines.linewidth'] = 1.5\n",
    "darkgrey = '#3A3A3A'\n",
    "lightgrey = '#414141'\n",
    "barblue = plt.rcParams['axes.prop_cycle'].by_key()['color'][0]\n",
    "plt.rcParams['text.color'] = darkgrey\n",
    "plt.rcParams['axes.labelcolor'] = darkgrey\n",
    "plt.rcParams['xtick.color'] = lightgrey\n",
    "plt.rcParams['ytick.color'] = lightgrey"
   ]
  },
  {
   "cell_type": "markdown",
   "metadata": {
    "slideshow": {
     "slide_type": "slide"
    }
   },
   "source": [
    "# Forecasting Feasible Delivery Date with a Monte Carlo Simulation 'When'\n",
    "## Context\n",
    "In our feature planning we decided on `N` items that will deliver the promised value to the customer. Before we make a commitment for a delivery date, we have to forecast when and how likely we will finish this scope."
   ]
  },
  {
   "cell_type": "markdown",
   "metadata": {
    "slideshow": {
     "slide_type": "slide"
    }
   },
   "source": [
    "## Idea\n",
    "\n",
    "To understand the current delivery capability, we tracked our throughput and cycle times of our items. We can use this data to forecast future throughput. \n",
    "\n",
    "The data points span without date boundaries; i.e., all team data (only) is captured. We will then summarize over the past `P` days."
   ]
  },
  {
   "cell_type": "code",
   "execution_count": null,
   "metadata": {
    "ExecuteTime": {
     "end_time": "2019-03-19T11:59:00.961477Z",
     "start_time": "2019-03-19T11:59:00.877094Z"
    },
    "slideshow": {
     "slide_type": "subslide"
    }
   },
   "outputs": [],
   "source": [
    "def datesWithoutTime(item):\n",
    "    item['Closed Date'] = datetime.datetime.strptime(item['Closed Date'].strftime('%Y-%m-%d'), '%Y-%m-%d').date()\n",
    "    return item\n",
    "\n",
    "kanban_data = pd.read_csv(\n",
    "    DATA_FILE_PATH, usecols=['Closed Date', 'Work Item Type'], parse_dates=['Closed Date']\n",
    ").dropna().transform(datesWithoutTime, 'columns')\n",
    "kanban_data.head(1)"
   ]
  },
  {
   "cell_type": "markdown",
   "metadata": {
    "slideshow": {
     "slide_type": "slide"
    }
   },
   "source": [
    "## Analysis\n",
    "\n",
    "Based on the past throughput per day a forecast can be created with a Monte Carlo simulation. Throughput is the number of total items completed per day.\n",
    "\n",
    "### Calculate Throughput\n",
    "Therefore, we sum up the completed items per day and add the missing dates with zero throughput. We plot the data of the throughput per day to get a brief overview of the result."
   ]
  },
  {
   "cell_type": "code",
   "execution_count": null,
   "metadata": {
    "ExecuteTime": {
     "end_time": "2019-03-19T11:59:07.311950Z",
     "start_time": "2019-03-19T11:59:06.631758Z"
    },
    "slideshow": {
     "slide_type": "slide"
    }
   },
   "outputs": [],
   "source": [
    "throughput = pd.crosstab(\n",
    "    kanban_data['Closed Date'], kanban_data['Work Item Type'], colnames=[None]).reset_index()\n",
    "throughput['Throughput'] = throughput['User Story']\n",
    "date_range = pd.date_range(\n",
    "    start=throughput['Closed Date'].min(), end=throughput['Closed Date'].max())\n",
    "throughput = throughput.set_index('Closed Date').reindex(\n",
    "    date_range).fillna(0).astype(int).rename_axis('Date')\n",
    "throughput_per_week = pd.DataFrame(\n",
    "    throughput['Throughput'].resample('W-Mon').sum()).reset_index()\n",
    "ax = throughput_per_week.plot(\n",
    "    x='Date', y='Throughput', linewidth=2.5, figsize=(14, 3), legend=None)\n",
    "ax.set_title(\"Throughput per Week\", loc='left', fontdict={\n",
    "             'fontsize': 18, 'fontweight': 'semibold'})\n",
    "ax.set_xlabel('')\n",
    "ax.set_ylabel('Items Completed')\n",
    "ax.axhline(y=0, color=lightgrey, alpha=.5);"
   ]
  },
  {
   "cell_type": "markdown",
   "metadata": {
    "slideshow": {
     "slide_type": "slide"
    }
   },
   "source": [
    "### Run Monte Carlo Simulation 'When'\n",
    "Based on the throughput data we simulate multiple times when the number of items will be completed. Before we run the simulation we set the configuration values:\n",
    "\n",
    "* Date range of data basis (last `P` days)\n",
    "* Number of work items to simulate.\n",
    "* Start date of work\n",
    "* Number of simulations to run (Recommendation: >= 10000).\n",
    "\n",
    "We plot the simulation results to get a brief overview of distribution of completion dates."
   ]
  },
  {
   "cell_type": "code",
   "execution_count": null,
   "metadata": {
    "ExecuteTime": {
     "end_time": "2019-03-19T12:12:57.085565Z",
     "start_time": "2019-03-19T11:59:11.966809Z"
    },
    "scrolled": true,
    "slideshow": {
     "slide_type": "slide"
    }
   },
   "outputs": [],
   "source": [
    "SIMULATIONS = 10000\n",
    "START_DATE = pd.to_datetime(DATE_TO_BEGIN_WORKING_ON_ITEMS)\n",
    "def simulate_days(data, scope):\n",
    "    days = 0\n",
    "    total = 0\n",
    "    while total <= scope:\n",
    "        total += dataset.sample(n=1).iloc[0].Throughput\n",
    "        days += 1\n",
    "    completion_date = START_DATE + pd.Timedelta(days, unit='d')\n",
    "    return completion_date\n",
    "\n",
    "\n",
    "dataset = throughput[['Throughput']].tail(LAST_DAYS).reset_index(drop=True)\n",
    "samples = [simulate_days(dataset, SIMULATION_ITEMS)\n",
    "           for i in range(SIMULATIONS)]\n",
    "samples = pd.DataFrame(samples, columns=['Date'])\n",
    "distribution = samples.groupby(['Date']).size().reset_index(name='Frequency')\n",
    "\n",
    "plt.figure(figsize=(15, 3))\n",
    "ax = sns.barplot(x='Date', y='Frequency', data=distribution, color=barblue)\n",
    "ax.set_title(f\"Distribution of Monte Carlo Simulation 'When' ({SIMULATIONS} Runs)\", loc='left',\n",
    "             fontdict={'size': 18, 'weight': 'semibold'})\n",
    "ax.set_xlabel(f\"Completion Date for {SIMULATION_ITEMS} Items\")\n",
    "ax.set_ylabel('Frequency')\n",
    "unique_dates = sorted(list(distribution['Date'].drop_duplicates()))\n",
    "date_ticks = range(0, len(unique_dates), 5)\n",
    "ax.set_xticks(date_ticks)\n",
    "ax.set_xticklabels([unique_dates[i].strftime('%d %b')\n",
    "                    for i in date_ticks], rotation=45)\n",
    "ax.axhline(y=SIMULATIONS*0.001, color=darkgrey, alpha=.5);"
   ]
  },
  {
   "cell_type": "markdown",
   "metadata": {
    "slideshow": {
     "slide_type": "slide"
    }
   },
   "source": [
    "### Analysis of the Probabilities of Occurrence\n",
    "We determine the probability for each number of completed items by cumulating the frequency in the simulations. We plot the probability for each number of completed items and indicate the percentiles 70%, 85%, and 95%."
   ]
  },
  {
   "cell_type": "code",
   "execution_count": null,
   "metadata": {
    "ExecuteTime": {
     "end_time": "2019-03-19T12:21:06.435761Z",
     "start_time": "2019-03-19T12:21:04.845999Z"
    },
    "scrolled": true,
    "slideshow": {
     "slide_type": "slide"
    }
   },
   "outputs": [],
   "source": [
    "distribution = distribution.sort_index(ascending=True)\n",
    "distribution['Probability'] = 100 * distribution.Frequency.cumsum()/distribution.Frequency.sum()\n",
    "plt.figure(figsize=(28, 10))\n",
    "ax = sns.barplot(x='Date', y='Probability', data=distribution, color=barblue)\n",
    "ax.text(x=-1.4, y=118,\n",
    "        s=f\"Probabilities of Completion Dates for {SIMULATION_ITEMS} Items\", fontsize=18, fontweight='semibold')\n",
    "ax.text(x=-1.4, y=110,\n",
    "        s=f\"Based on a Monte Carlo Simulations ({SIMULATIONS} Runs) with data of last {LAST_DAYS} days\", fontsize=16)\n",
    "ax.set_ylabel('Confidence')\n",
    "ax.set_xlabel('Completion Date')\n",
    "ax.axhline(y=0.5, color=darkgrey, alpha=.5)\n",
    "ax.axhline(y=70, color=darkgrey, linestyle='--')\n",
    "ax.axhline(y=85, color=darkgrey, linestyle='--')\n",
    "ax.axhline(y=95, color=darkgrey, linestyle='--')\n",
    "ax.text(y=70, x=0, s=f'70%% (%s)' % samples.Date.quantile(0.7).strftime('%m/%d/%Y'),\n",
    "        va='center', ha='center', backgroundcolor='#F0F0F0')\n",
    "ax.text(y=85, x=0, s=f'85%% (%s)' % samples.Date.quantile(0.85).strftime('%m/%d/%Y'),\n",
    "        va='center', ha='center', backgroundcolor='#F0F0F0')\n",
    "ax.text(y=95, x=0, s=f'95%% (%s)' % samples.Date.quantile(0.95).strftime('%m/%d/%Y'),\n",
    "        va='center', ha='center', backgroundcolor='#F0F0F0')\n",
    "unique_dates = sorted(list(distribution['Date'].drop_duplicates()))\n",
    "date_ticks = range(0, len(unique_dates), 5)\n",
    "ax.set_xticks(date_ticks)\n",
    "ax.set_xticklabels([unique_dates[i].strftime('%d %b')\n",
    "                    for i in date_ticks], rotation=45);"
   ]
  },
  {
   "cell_type": "markdown",
   "metadata": {
    "slideshow": {
     "slide_type": "slide"
    }
   },
   "source": [
    "## Conclusion\n",
    "\n",
    "For the `N` items, we see dates for completing these items along with their respective confidence level; with 70% being risky and 95% being confident."
   ]
  }
 ],
 "metadata": {
  "celltoolbar": "Slideshow",
  "kernelspec": {
   "display_name": "Python 3",
   "language": "python",
   "name": "python3"
  },
  "language_info": {
   "codemirror_mode": {
    "name": "ipython",
    "version": 3
   },
   "file_extension": ".py",
   "mimetype": "text/x-python",
   "name": "python",
   "nbconvert_exporter": "python",
   "pygments_lexer": "ipython3",
   "version": "3.8.12"
  },
  "varInspector": {
   "cols": {
    "lenName": 16,
    "lenType": 16,
    "lenVar": 40
   },
   "kernels_config": {
    "python": {
     "delete_cmd_postfix": "",
     "delete_cmd_prefix": "del ",
     "library": "var_list.py",
     "varRefreshCmd": "print(var_dic_list())"
    },
    "r": {
     "delete_cmd_postfix": ") ",
     "delete_cmd_prefix": "rm(",
     "library": "var_list.r",
     "varRefreshCmd": "cat(var_dic_list()) "
    }
   },
   "types_to_exclude": [
    "module",
    "function",
    "builtin_function_or_method",
    "instance",
    "_Feature"
   ],
   "window_display": false
  }
 },
 "nbformat": 4,
 "nbformat_minor": 2
}
